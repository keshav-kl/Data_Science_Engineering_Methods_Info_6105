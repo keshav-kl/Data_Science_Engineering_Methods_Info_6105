{
 "cells": [
  {
   "cell_type": "markdown",
   "metadata": {},
   "source": [
    "1. Understand the problem and read in the data\n",
    "2. Pre-process data, train-test split\n",
    "3. Build and compile a deep learning model"
   ]
  },
  {
   "cell_type": "markdown",
   "metadata": {},
   "source": [
    "# Understand the problem and read in the data"
   ]
  },
  {
   "cell_type": "markdown",
   "metadata": {},
   "source": [
    "This Kaggle challenge is about predicting the onset of diabetes in 5 years or less. \n",
    "Target variable is Outcome. 1 = yes, the person became diabetic in 5 years, and 0 = No, \n",
    "the person did not. This is a binary classification problem. Please check out the Kaggle\n",
    "link here to see feature \n",
    "details - https://www.kaggle.com/uciml/pima-indians-diabetes-database/data"
   ]
  },
  {
   "cell_type": "code",
   "execution_count": 178,
   "metadata": {},
   "outputs": [],
   "source": [
    "'''Import necessary packages'''\n",
    "from keras.models import Sequential\n",
    "from keras.layers import Dense\n",
    "from sklearn.model_selection import train_test_split\n",
    "import seaborn as sns\n",
    "import numpy as np\n",
    "import pandas as pd\n",
    "import matplotlib.pyplot as plt\n",
    "from sklearn.metrics import classification_report, roc_auc_score\n",
    "from sklearn.metrics import confusion_matrix, accuracy_score\n",
    "\n",
    "%matplotlib inline"
   ]
  },
  {
   "cell_type": "code",
   "execution_count": 179,
   "metadata": {},
   "outputs": [
    {
     "data": {
      "text/plain": [
       "'C:\\\\Users\\\\kesha'"
      ]
     },
     "execution_count": 179,
     "metadata": {},
     "output_type": "execute_result"
    }
   ],
   "source": [
    "%pwd"
   ]
  },
  {
   "cell_type": "code",
   "execution_count": 180,
   "metadata": {},
   "outputs": [
    {
     "name": "stderr",
     "output_type": "stream",
     "text": [
      "'ls' is not recognized as an internal or external command,\n",
      "operable program or batch file.\n"
     ]
    }
   ],
   "source": [
    "!ls"
   ]
  },
  {
   "cell_type": "code",
   "execution_count": 181,
   "metadata": {},
   "outputs": [],
   "source": [
    "path = 'C:\\Data_Science_Engineering_Methonds_And_Tools\\Info_6105\\Module_9\\Assignment_3'"
   ]
  },
  {
   "cell_type": "code",
   "execution_count": 182,
   "metadata": {},
   "outputs": [
    {
     "name": "stdout",
     "output_type": "stream",
     "text": [
      "(768, 9)\n"
     ]
    },
    {
     "data": {
      "text/html": [
       "<div>\n",
       "<style scoped>\n",
       "    .dataframe tbody tr th:only-of-type {\n",
       "        vertical-align: middle;\n",
       "    }\n",
       "\n",
       "    .dataframe tbody tr th {\n",
       "        vertical-align: top;\n",
       "    }\n",
       "\n",
       "    .dataframe thead th {\n",
       "        text-align: right;\n",
       "    }\n",
       "</style>\n",
       "<table border=\"1\" class=\"dataframe\">\n",
       "  <thead>\n",
       "    <tr style=\"text-align: right;\">\n",
       "      <th></th>\n",
       "      <th>0</th>\n",
       "      <th>1</th>\n",
       "      <th>2</th>\n",
       "      <th>3</th>\n",
       "      <th>4</th>\n",
       "      <th>5</th>\n",
       "      <th>6</th>\n",
       "      <th>7</th>\n",
       "      <th>8</th>\n",
       "    </tr>\n",
       "  </thead>\n",
       "  <tbody>\n",
       "    <tr>\n",
       "      <th>0</th>\n",
       "      <td>6</td>\n",
       "      <td>148</td>\n",
       "      <td>72</td>\n",
       "      <td>35</td>\n",
       "      <td>0</td>\n",
       "      <td>33.6</td>\n",
       "      <td>0.627</td>\n",
       "      <td>50</td>\n",
       "      <td>1</td>\n",
       "    </tr>\n",
       "    <tr>\n",
       "      <th>1</th>\n",
       "      <td>1</td>\n",
       "      <td>85</td>\n",
       "      <td>66</td>\n",
       "      <td>29</td>\n",
       "      <td>0</td>\n",
       "      <td>26.6</td>\n",
       "      <td>0.351</td>\n",
       "      <td>31</td>\n",
       "      <td>0</td>\n",
       "    </tr>\n",
       "  </tbody>\n",
       "</table>\n",
       "</div>"
      ],
      "text/plain": [
       "   0    1   2   3  4     5      6   7  8\n",
       "0  6  148  72  35  0  33.6  0.627  50  1\n",
       "1  1   85  66  29  0  26.6  0.351  31  0"
      ]
     },
     "execution_count": 182,
     "metadata": {},
     "output_type": "execute_result"
    }
   ],
   "source": [
    "df = pd.read_csv(f'{path}/pima-indians-diabetes.data',header = None)\n",
    "print(df.shape)\n",
    "df.head(2)"
   ]
  },
  {
   "cell_type": "markdown",
   "metadata": {},
   "source": [
    "# Pre-process data, train-val-test split"
   ]
  },
  {
   "cell_type": "code",
   "execution_count": 183,
   "metadata": {},
   "outputs": [
    {
     "name": "stdout",
     "output_type": "stream",
     "text": [
      "(610, 9) (158, 9)\n",
      "   0    1   2   3    4     5      6   7  8\n",
      "0  6  148  72  35    0  33.6  0.627  50  1\n",
      "1  1   85  66  29    0  26.6  0.351  31  0\n",
      "2  8  183  64   0    0  23.3  0.672  32  1\n",
      "3  1   89  66  23   94  28.1  0.167  21  0\n",
      "4  0  137  40  35  168  43.1  2.288  33  1\n",
      "      0    1   2   3    4     5      6   7  8\n",
      "610   3  106  54  21  158  30.9  0.292  24  0\n",
      "611   3  174  58  22  194  32.9  0.593  36  1\n",
      "612   7  168  88  42  321  38.2  0.787  40  1\n",
      "613   6  105  80  28    0  32.5  0.878  26  0\n",
      "614  11  138  74  26  144  36.1  0.557  50  1\n"
     ]
    }
   ],
   "source": [
    "#Separate out X and Y\n",
    "\n",
    "def mydf_splitter(my_df,num_rows):\n",
    "    return my_df[:num_rows].copy(),my_df[num_rows:]\n",
    "\n",
    "\n",
    "df_train_val,df_test = mydf_splitter(df,610)\n",
    "\n",
    "print(df_train_val.shape,df_test.shape)\n",
    "print(df_train_val.head())\n",
    "print(df_test.head())"
   ]
  },
  {
   "cell_type": "code",
   "execution_count": 184,
   "metadata": {},
   "outputs": [
    {
     "name": "stdout",
     "output_type": "stream",
     "text": [
      "(610, 8)\n",
      "(610, 1)\n"
     ]
    }
   ],
   "source": [
    "# Splitting the Y Variable from the dataset\n",
    "\n",
    "X = df_train_val.iloc[:, :8]\n",
    "Y = df_train_val.iloc[:, 8:9]\n",
    "print(X.shape)\n",
    "print(Y.shape)\n"
   ]
  },
  {
   "cell_type": "code",
   "execution_count": 186,
   "metadata": {},
   "outputs": [
    {
     "name": "stdout",
     "output_type": "stream",
     "text": [
      "          0         1         2         3         4         5         6  \\\n",
      "0  0.352941  0.747475  0.590164  0.353535  0.000000  0.500745  0.234415   \n",
      "1  0.058824  0.429293  0.540984  0.292929  0.000000  0.396423  0.116567   \n",
      "2  0.470588  0.924242  0.524590  0.000000  0.000000  0.347243  0.253629   \n",
      "3  0.058824  0.449495  0.540984  0.232323  0.111111  0.418778  0.038002   \n",
      "4  0.000000  0.691919  0.327869  0.353535  0.198582  0.642325  0.943638   \n",
      "\n",
      "          7  \n",
      "0  0.483333  \n",
      "1  0.166667  \n",
      "2  0.183333  \n",
      "3  0.000000  \n",
      "4  0.200000  \n"
     ]
    }
   ],
   "source": [
    "#Scaling the dataset, first with the training and validation dataset.\n",
    "\n",
    "from sklearn.preprocessing import MinMaxScaler\n",
    "\n",
    "data = X\n",
    "scaler = MinMaxScaler(feature_range=(0,1))\n",
    "scaler = MinMaxScaler()\n",
    "scaler.fit(data)\n",
    "df_train_val1 = pd.DataFrame(scaler.transform(data))\n",
    "\n",
    "print(df_train_val1.head())\n"
   ]
  },
  {
   "cell_type": "code",
   "execution_count": 187,
   "metadata": {},
   "outputs": [],
   "source": [
    "X=df_train_val1"
   ]
  },
  {
   "cell_type": "code",
   "execution_count": 188,
   "metadata": {},
   "outputs": [
    {
     "name": "stdout",
     "output_type": "stream",
     "text": [
      "(457, 8) (153, 8) (457, 1) (153, 1)\n"
     ]
    }
   ],
   "source": [
    "#Splitting the Y variable from the dataset\n",
    "\n",
    "(X_train, X_val, Y_train, Y_val) = train_test_split(X, Y, random_state = 1)\n",
    "print(X_train.shape, X_val.shape, Y_train.shape, Y_val.shape)"
   ]
  },
  {
   "cell_type": "code",
   "execution_count": 189,
   "metadata": {},
   "outputs": [
    {
     "name": "stdout",
     "output_type": "stream",
     "text": [
      "            0         1         2         3         4         5         6  \\\n",
      "255  0.058824  0.570707  0.524590  0.353535  0.000000  0.500745  0.198548   \n",
      "433  0.117647  0.702020  0.614754  0.000000  0.000000  0.381520  0.038002   \n",
      "61   0.470588  0.671717  0.590164  0.000000  0.000000  0.490313  0.081981   \n",
      "532  0.058824  0.434343  0.540984  0.525253  0.076832  0.615499  0.358241   \n",
      "259  0.647059  0.782828  0.622951  0.282828  0.177305  0.496274  0.544406   \n",
      "\n",
      "            7  \n",
      "255  0.000000  \n",
      "433  0.133333  \n",
      "61   0.300000  \n",
      "532  0.133333  \n",
      "259  0.500000               0         1         2         3         4         5         6  \\\n",
      "49   0.411765  0.530303  0.000000  0.000000  0.000000  0.000000  0.096926   \n",
      "237  0.000000  0.904040  0.737705  0.272727  0.000000  0.657228  0.259607   \n",
      "195  0.294118  0.797980  0.688525  0.414141  0.248227  0.587183  0.135354   \n",
      "596  0.000000  0.338384  0.622951  0.000000  0.000000  0.675112  0.049530   \n",
      "197  0.176471  0.540404  0.508197  0.131313  0.056738  0.341282  0.256191   \n",
      "\n",
      "            7  \n",
      "49   0.050000  \n",
      "237  0.033333  \n",
      "195  0.133333  \n",
      "596  0.416667  \n",
      "197  0.033333        8\n",
      "255  1\n",
      "433  0\n",
      "61   1\n",
      "532  0\n",
      "259  1      8\n",
      "49   0\n",
      "237  1\n",
      "195  1\n",
      "596  0\n",
      "197  1\n"
     ]
    }
   ],
   "source": [
    "print(X_train.head(), X_val.head(), Y_train.head(), Y_val.head())"
   ]
  },
  {
   "cell_type": "markdown",
   "metadata": {},
   "source": [
    "# Build and compile a deep learning model"
   ]
  },
  {
   "cell_type": "code",
   "execution_count": 208,
   "metadata": {},
   "outputs": [
    {
     "name": "stderr",
     "output_type": "stream",
     "text": [
      "C:\\Anaconda\\lib\\site-packages\\ipykernel_launcher.py:3: UserWarning: Update your `Dense` call to the Keras 2 API: `Dense(10, input_dim=8, activation=\"relu\", kernel_initializer=\"uniform\")`\n",
      "  This is separate from the ipykernel package so we can avoid doing imports until\n",
      "C:\\Anaconda\\lib\\site-packages\\ipykernel_launcher.py:4: UserWarning: Update your `Dense` call to the Keras 2 API: `Dense(6, activation=\"relu\", kernel_initializer=\"uniform\")`\n",
      "  after removing the cwd from sys.path.\n",
      "C:\\Anaconda\\lib\\site-packages\\ipykernel_launcher.py:5: UserWarning: Update your `Dense` call to the Keras 2 API: `Dense(1, activation=\"sigmoid\", kernel_initializer=\"uniform\")`\n",
      "  \"\"\"\n"
     ]
    }
   ],
   "source": [
    "# Build the deep neural network\n",
    "model = Sequential()\n",
    "model.add(Dense(10, input_dim=8, init='uniform', activation='relu'))\n",
    "model.add(Dense(6, init='uniform', activation='relu'))\n",
    "model.add(Dense(1, init='uniform', activation='sigmoid'))"
   ]
  },
  {
   "cell_type": "code",
   "execution_count": 209,
   "metadata": {},
   "outputs": [],
   "source": [
    "# Compile the DNN\n",
    "\n",
    "model.compile(loss='binary_crossentropy', optimizer='adam', metrics=['accuracy'])"
   ]
  },
  {
   "cell_type": "code",
   "execution_count": 224,
   "metadata": {},
   "outputs": [
    {
     "name": "stdout",
     "output_type": "stream",
     "text": [
      "Train on 457 samples, validate on 153 samples\n",
      "Epoch 1/100\n",
      "457/457 [==============================] - 0s 247us/step - loss: 0.4652 - accuracy: 0.7724 - val_loss: 0.5387 - val_accuracy: 0.7778\n",
      "Epoch 2/100\n",
      "325/457 [====================>.........] - ETA: 0s - loss: 0.4541 - accuracy: 0.7723"
     ]
    },
    {
     "name": "stderr",
     "output_type": "stream",
     "text": [
      "C:\\Anaconda\\lib\\site-packages\\ipykernel_launcher.py:3: UserWarning: The `nb_epoch` argument in `fit` has been renamed `epochs`.\n",
      "  This is separate from the ipykernel package so we can avoid doing imports until\n"
     ]
    },
    {
     "name": "stdout",
     "output_type": "stream",
     "text": [
      "457/457 [==============================] - 0s 207us/step - loss: 0.4640 - accuracy: 0.7681 - val_loss: 0.5373 - val_accuracy: 0.7647\n",
      "Epoch 3/100\n",
      "457/457 [==============================] - 0s 220us/step - loss: 0.4637 - accuracy: 0.7681 - val_loss: 0.5383 - val_accuracy: 0.7516\n",
      "Epoch 4/100\n",
      "457/457 [==============================] - 0s 212us/step - loss: 0.4633 - accuracy: 0.7746 - val_loss: 0.5369 - val_accuracy: 0.7778\n",
      "Epoch 5/100\n",
      "457/457 [==============================] - 0s 229us/step - loss: 0.4625 - accuracy: 0.7681 - val_loss: 0.5378 - val_accuracy: 0.7647\n",
      "Epoch 6/100\n",
      "457/457 [==============================] - 0s 223us/step - loss: 0.4620 - accuracy: 0.7637 - val_loss: 0.5363 - val_accuracy: 0.7778\n",
      "Epoch 7/100\n",
      "457/457 [==============================] - 0s 231us/step - loss: 0.4619 - accuracy: 0.7812 - val_loss: 0.5365 - val_accuracy: 0.7712\n",
      "Epoch 8/100\n",
      "457/457 [==============================] - 0s 214us/step - loss: 0.4615 - accuracy: 0.7659 - val_loss: 0.5367 - val_accuracy: 0.7712\n",
      "Epoch 9/100\n",
      "457/457 [==============================] - 0s 227us/step - loss: 0.4617 - accuracy: 0.7746 - val_loss: 0.5364 - val_accuracy: 0.7712\n",
      "Epoch 10/100\n",
      "457/457 [==============================] - 0s 227us/step - loss: 0.4605 - accuracy: 0.7790 - val_loss: 0.5384 - val_accuracy: 0.7582\n",
      "Epoch 11/100\n",
      "457/457 [==============================] - 0s 240us/step - loss: 0.4608 - accuracy: 0.7790 - val_loss: 0.5388 - val_accuracy: 0.7582\n",
      "Epoch 12/100\n",
      "457/457 [==============================] - 0s 225us/step - loss: 0.4601 - accuracy: 0.7790 - val_loss: 0.5365 - val_accuracy: 0.7778\n",
      "Epoch 13/100\n",
      "457/457 [==============================] - 0s 212us/step - loss: 0.4599 - accuracy: 0.7812 - val_loss: 0.5352 - val_accuracy: 0.7778\n",
      "Epoch 14/100\n",
      "457/457 [==============================] - 0s 229us/step - loss: 0.4592 - accuracy: 0.7768 - val_loss: 0.5353 - val_accuracy: 0.7647\n",
      "Epoch 15/100\n",
      "457/457 [==============================] - 0s 240us/step - loss: 0.4588 - accuracy: 0.7856 - val_loss: 0.5332 - val_accuracy: 0.7712\n",
      "Epoch 16/100\n",
      "457/457 [==============================] - 0s 247us/step - loss: 0.4579 - accuracy: 0.7768 - val_loss: 0.5325 - val_accuracy: 0.7778\n",
      "Epoch 17/100\n",
      "457/457 [==============================] - 0s 236us/step - loss: 0.4578 - accuracy: 0.7812 - val_loss: 0.5331 - val_accuracy: 0.7778\n",
      "Epoch 18/100\n",
      "457/457 [==============================] - 0s 231us/step - loss: 0.4564 - accuracy: 0.7834 - val_loss: 0.5331 - val_accuracy: 0.7778\n",
      "Epoch 19/100\n",
      "457/457 [==============================] - 0s 244us/step - loss: 0.4560 - accuracy: 0.7834 - val_loss: 0.5325 - val_accuracy: 0.7778\n",
      "Epoch 20/100\n",
      "457/457 [==============================] - 0s 214us/step - loss: 0.4563 - accuracy: 0.7768 - val_loss: 0.5327 - val_accuracy: 0.7778\n",
      "Epoch 21/100\n",
      "457/457 [==============================] - 0s 210us/step - loss: 0.4565 - accuracy: 0.7812 - val_loss: 0.5312 - val_accuracy: 0.7778\n",
      "Epoch 22/100\n",
      "457/457 [==============================] - 0s 249us/step - loss: 0.4547 - accuracy: 0.7834 - val_loss: 0.5319 - val_accuracy: 0.7843\n",
      "Epoch 23/100\n",
      "457/457 [==============================] - 0s 210us/step - loss: 0.4542 - accuracy: 0.7812 - val_loss: 0.5309 - val_accuracy: 0.7778\n",
      "Epoch 24/100\n",
      "457/457 [==============================] - 0s 225us/step - loss: 0.4548 - accuracy: 0.7834 - val_loss: 0.5306 - val_accuracy: 0.7843\n",
      "Epoch 25/100\n",
      "457/457 [==============================] - 0s 231us/step - loss: 0.4533 - accuracy: 0.7921 - val_loss: 0.5307 - val_accuracy: 0.7843\n",
      "Epoch 26/100\n",
      "457/457 [==============================] - 0s 205us/step - loss: 0.4528 - accuracy: 0.7856 - val_loss: 0.5313 - val_accuracy: 0.7778\n",
      "Epoch 27/100\n",
      "457/457 [==============================] - 0s 210us/step - loss: 0.4528 - accuracy: 0.7790 - val_loss: 0.5293 - val_accuracy: 0.7843\n",
      "Epoch 28/100\n",
      "457/457 [==============================] - 0s 223us/step - loss: 0.4529 - accuracy: 0.7921 - val_loss: 0.5303 - val_accuracy: 0.7712\n",
      "Epoch 29/100\n",
      "457/457 [==============================] - 0s 225us/step - loss: 0.4512 - accuracy: 0.7856 - val_loss: 0.5295 - val_accuracy: 0.7778\n",
      "Epoch 30/100\n",
      "457/457 [==============================] - 0s 207us/step - loss: 0.4516 - accuracy: 0.7812 - val_loss: 0.5284 - val_accuracy: 0.7778\n",
      "Epoch 31/100\n",
      "457/457 [==============================] - 0s 227us/step - loss: 0.4513 - accuracy: 0.7746 - val_loss: 0.5299 - val_accuracy: 0.7712\n",
      "Epoch 32/100\n",
      "457/457 [==============================] - 0s 220us/step - loss: 0.4517 - accuracy: 0.7856 - val_loss: 0.5285 - val_accuracy: 0.7843\n",
      "Epoch 33/100\n",
      "457/457 [==============================] - 0s 227us/step - loss: 0.4520 - accuracy: 0.7790 - val_loss: 0.5288 - val_accuracy: 0.7843\n",
      "Epoch 34/100\n",
      "457/457 [==============================] - 0s 238us/step - loss: 0.4497 - accuracy: 0.7899 - val_loss: 0.5273 - val_accuracy: 0.7778\n",
      "Epoch 35/100\n",
      "457/457 [==============================] - 0s 212us/step - loss: 0.4507 - accuracy: 0.7877 - val_loss: 0.5276 - val_accuracy: 0.7778\n",
      "Epoch 36/100\n",
      "457/457 [==============================] - 0s 205us/step - loss: 0.4489 - accuracy: 0.7943 - val_loss: 0.5271 - val_accuracy: 0.7778\n",
      "Epoch 37/100\n",
      "457/457 [==============================] - 0s 210us/step - loss: 0.4512 - accuracy: 0.7899 - val_loss: 0.5257 - val_accuracy: 0.7712\n",
      "Epoch 38/100\n",
      "457/457 [==============================] - 0s 205us/step - loss: 0.4484 - accuracy: 0.7877 - val_loss: 0.5267 - val_accuracy: 0.7778\n",
      "Epoch 39/100\n",
      "457/457 [==============================] - 0s 212us/step - loss: 0.4476 - accuracy: 0.7899 - val_loss: 0.5269 - val_accuracy: 0.7778\n",
      "Epoch 40/100\n",
      "457/457 [==============================] - 0s 203us/step - loss: 0.4483 - accuracy: 0.7790 - val_loss: 0.5286 - val_accuracy: 0.7908\n",
      "Epoch 41/100\n",
      "457/457 [==============================] - 0s 220us/step - loss: 0.4495 - accuracy: 0.7856 - val_loss: 0.5253 - val_accuracy: 0.7843\n",
      "Epoch 42/100\n",
      "457/457 [==============================] - 0s 207us/step - loss: 0.4477 - accuracy: 0.7834 - val_loss: 0.5271 - val_accuracy: 0.7908\n",
      "Epoch 43/100\n",
      "457/457 [==============================] - 0s 212us/step - loss: 0.4487 - accuracy: 0.7856 - val_loss: 0.5274 - val_accuracy: 0.7712\n",
      "Epoch 44/100\n",
      "457/457 [==============================] - 0s 210us/step - loss: 0.4471 - accuracy: 0.7856 - val_loss: 0.5269 - val_accuracy: 0.7908\n",
      "Epoch 45/100\n",
      "457/457 [==============================] - 0s 210us/step - loss: 0.4471 - accuracy: 0.7877 - val_loss: 0.5263 - val_accuracy: 0.7647\n",
      "Epoch 46/100\n",
      "457/457 [==============================] - 0s 207us/step - loss: 0.4480 - accuracy: 0.7877 - val_loss: 0.5244 - val_accuracy: 0.7712\n",
      "Epoch 47/100\n",
      "457/457 [==============================] - 0s 229us/step - loss: 0.4464 - accuracy: 0.7943 - val_loss: 0.5256 - val_accuracy: 0.7778\n",
      "Epoch 48/100\n",
      "457/457 [==============================] - 0s 227us/step - loss: 0.4479 - accuracy: 0.7790 - val_loss: 0.5268 - val_accuracy: 0.7908\n",
      "Epoch 49/100\n",
      "457/457 [==============================] - 0s 231us/step - loss: 0.4455 - accuracy: 0.7856 - val_loss: 0.5267 - val_accuracy: 0.7712\n",
      "Epoch 50/100\n",
      "457/457 [==============================] - 0s 223us/step - loss: 0.4444 - accuracy: 0.7856 - val_loss: 0.5253 - val_accuracy: 0.7778\n",
      "Epoch 51/100\n",
      "457/457 [==============================] - 0s 220us/step - loss: 0.4452 - accuracy: 0.7877 - val_loss: 0.5257 - val_accuracy: 0.7778\n",
      "Epoch 52/100\n",
      "457/457 [==============================] - 0s 203us/step - loss: 0.4456 - accuracy: 0.7899 - val_loss: 0.5251 - val_accuracy: 0.7778\n",
      "Epoch 53/100\n",
      "457/457 [==============================] - 0s 220us/step - loss: 0.4436 - accuracy: 0.7899 - val_loss: 0.5266 - val_accuracy: 0.7843\n",
      "Epoch 54/100\n",
      "457/457 [==============================] - 0s 227us/step - loss: 0.4445 - accuracy: 0.7877 - val_loss: 0.5248 - val_accuracy: 0.7712\n",
      "Epoch 55/100\n",
      "457/457 [==============================] - 0s 227us/step - loss: 0.4431 - accuracy: 0.7834 - val_loss: 0.5265 - val_accuracy: 0.7778\n",
      "Epoch 56/100\n",
      "457/457 [==============================] - 0s 234us/step - loss: 0.4438 - accuracy: 0.7790 - val_loss: 0.5265 - val_accuracy: 0.7778\n",
      "Epoch 57/100\n",
      "457/457 [==============================] - 0s 223us/step - loss: 0.4442 - accuracy: 0.7877 - val_loss: 0.5251 - val_accuracy: 0.7778\n",
      "Epoch 58/100\n"
     ]
    },
    {
     "name": "stdout",
     "output_type": "stream",
     "text": [
      "457/457 [==============================] - 0s 229us/step - loss: 0.4439 - accuracy: 0.7856 - val_loss: 0.5254 - val_accuracy: 0.7647\n",
      "Epoch 59/100\n",
      "457/457 [==============================] - 0s 227us/step - loss: 0.4437 - accuracy: 0.7899 - val_loss: 0.5251 - val_accuracy: 0.7712\n",
      "Epoch 60/100\n",
      "457/457 [==============================] - 0s 205us/step - loss: 0.4431 - accuracy: 0.7877 - val_loss: 0.5241 - val_accuracy: 0.7712\n",
      "Epoch 61/100\n",
      "457/457 [==============================] - 0s 227us/step - loss: 0.4422 - accuracy: 0.7768 - val_loss: 0.5275 - val_accuracy: 0.7908\n",
      "Epoch 62/100\n",
      "457/457 [==============================] - 0s 210us/step - loss: 0.4451 - accuracy: 0.7899 - val_loss: 0.5230 - val_accuracy: 0.7712\n",
      "Epoch 63/100\n",
      "457/457 [==============================] - 0s 231us/step - loss: 0.4437 - accuracy: 0.7856 - val_loss: 0.5232 - val_accuracy: 0.7712\n",
      "Epoch 64/100\n",
      "457/457 [==============================] - 0s 273us/step - loss: 0.4430 - accuracy: 0.7965 - val_loss: 0.5220 - val_accuracy: 0.7712\n",
      "Epoch 65/100\n",
      "457/457 [==============================] - 0s 240us/step - loss: 0.4415 - accuracy: 0.7877 - val_loss: 0.5232 - val_accuracy: 0.7712\n",
      "Epoch 66/100\n",
      "457/457 [==============================] - 0s 240us/step - loss: 0.4411 - accuracy: 0.7921 - val_loss: 0.5222 - val_accuracy: 0.7712\n",
      "Epoch 67/100\n",
      "457/457 [==============================] - 0s 253us/step - loss: 0.4414 - accuracy: 0.7812 - val_loss: 0.5233 - val_accuracy: 0.7712\n",
      "Epoch 68/100\n",
      "457/457 [==============================] - 0s 253us/step - loss: 0.4433 - accuracy: 0.7943 - val_loss: 0.5222 - val_accuracy: 0.7843\n",
      "Epoch 69/100\n",
      "457/457 [==============================] - 0s 249us/step - loss: 0.4416 - accuracy: 0.7899 - val_loss: 0.5212 - val_accuracy: 0.7712\n",
      "Epoch 70/100\n",
      "457/457 [==============================] - 0s 238us/step - loss: 0.4410 - accuracy: 0.7834 - val_loss: 0.5219 - val_accuracy: 0.7843\n",
      "Epoch 71/100\n",
      "457/457 [==============================] - 0s 262us/step - loss: 0.4427 - accuracy: 0.7921 - val_loss: 0.5223 - val_accuracy: 0.7843\n",
      "Epoch 72/100\n",
      "457/457 [==============================] - 0s 258us/step - loss: 0.4408 - accuracy: 0.7834 - val_loss: 0.5210 - val_accuracy: 0.7843\n",
      "Epoch 73/100\n",
      "457/457 [==============================] - 0s 271us/step - loss: 0.4428 - accuracy: 0.7856 - val_loss: 0.5225 - val_accuracy: 0.7647\n",
      "Epoch 74/100\n",
      "457/457 [==============================] - 0s 279us/step - loss: 0.4402 - accuracy: 0.7943 - val_loss: 0.5231 - val_accuracy: 0.7778\n",
      "Epoch 75/100\n",
      "457/457 [==============================] - 0s 319us/step - loss: 0.4417 - accuracy: 0.7856 - val_loss: 0.5243 - val_accuracy: 0.7582\n",
      "Epoch 76/100\n",
      "457/457 [==============================] - 0s 258us/step - loss: 0.4406 - accuracy: 0.7834 - val_loss: 0.5226 - val_accuracy: 0.7778\n",
      "Epoch 77/100\n",
      "457/457 [==============================] - 0s 216us/step - loss: 0.4396 - accuracy: 0.7921 - val_loss: 0.5230 - val_accuracy: 0.7647\n",
      "Epoch 78/100\n",
      "457/457 [==============================] - 0s 225us/step - loss: 0.4397 - accuracy: 0.8031 - val_loss: 0.5230 - val_accuracy: 0.7778\n",
      "Epoch 79/100\n",
      "457/457 [==============================] - 0s 225us/step - loss: 0.4399 - accuracy: 0.7921 - val_loss: 0.5241 - val_accuracy: 0.7908\n",
      "Epoch 80/100\n",
      "457/457 [==============================] - 0s 218us/step - loss: 0.4419 - accuracy: 0.7877 - val_loss: 0.5231 - val_accuracy: 0.7647\n",
      "Epoch 81/100\n",
      "457/457 [==============================] - 0s 210us/step - loss: 0.4384 - accuracy: 0.7877 - val_loss: 0.5217 - val_accuracy: 0.7712\n",
      "Epoch 82/100\n",
      "457/457 [==============================] - 0s 205us/step - loss: 0.4396 - accuracy: 0.7899 - val_loss: 0.5227 - val_accuracy: 0.7778\n",
      "Epoch 83/100\n",
      "457/457 [==============================] - 0s 207us/step - loss: 0.4383 - accuracy: 0.7877 - val_loss: 0.5223 - val_accuracy: 0.7778\n",
      "Epoch 84/100\n",
      "457/457 [==============================] - 0s 303us/step - loss: 0.4384 - accuracy: 0.7877 - val_loss: 0.5240 - val_accuracy: 0.7843\n",
      "Epoch 85/100\n",
      "457/457 [==============================] - 0s 240us/step - loss: 0.4393 - accuracy: 0.7921 - val_loss: 0.5233 - val_accuracy: 0.7647\n",
      "Epoch 86/100\n",
      "457/457 [==============================] - 0s 212us/step - loss: 0.4390 - accuracy: 0.7899 - val_loss: 0.5221 - val_accuracy: 0.7712\n",
      "Epoch 87/100\n",
      "457/457 [==============================] - 0s 218us/step - loss: 0.4389 - accuracy: 0.7965 - val_loss: 0.5236 - val_accuracy: 0.7778\n",
      "Epoch 88/100\n",
      "457/457 [==============================] - 0s 216us/step - loss: 0.4372 - accuracy: 0.7987 - val_loss: 0.5216 - val_accuracy: 0.7712\n",
      "Epoch 89/100\n",
      "457/457 [==============================] - 0s 216us/step - loss: 0.4396 - accuracy: 0.7921 - val_loss: 0.5226 - val_accuracy: 0.7712\n",
      "Epoch 90/100\n",
      "457/457 [==============================] - 0s 225us/step - loss: 0.4394 - accuracy: 0.7856 - val_loss: 0.5220 - val_accuracy: 0.7582\n",
      "Epoch 91/100\n",
      "457/457 [==============================] - 0s 231us/step - loss: 0.4372 - accuracy: 0.7943 - val_loss: 0.5220 - val_accuracy: 0.7712\n",
      "Epoch 92/100\n",
      "457/457 [==============================] - 0s 225us/step - loss: 0.4379 - accuracy: 0.7899 - val_loss: 0.5234 - val_accuracy: 0.7843\n",
      "Epoch 93/100\n",
      "457/457 [==============================] - 0s 207us/step - loss: 0.4385 - accuracy: 0.7921 - val_loss: 0.5215 - val_accuracy: 0.7778\n",
      "Epoch 94/100\n",
      "457/457 [==============================] - 0s 207us/step - loss: 0.4374 - accuracy: 0.7921 - val_loss: 0.5216 - val_accuracy: 0.7778\n",
      "Epoch 95/100\n",
      "457/457 [==============================] - 0s 242us/step - loss: 0.4370 - accuracy: 0.7987 - val_loss: 0.5231 - val_accuracy: 0.7843\n",
      "Epoch 96/100\n",
      "457/457 [==============================] - 0s 236us/step - loss: 0.4374 - accuracy: 0.8009 - val_loss: 0.5231 - val_accuracy: 0.7647\n",
      "Epoch 97/100\n",
      "457/457 [==============================] - 0s 225us/step - loss: 0.4392 - accuracy: 0.7899 - val_loss: 0.5206 - val_accuracy: 0.7647\n",
      "Epoch 98/100\n",
      "457/457 [==============================] - 0s 236us/step - loss: 0.4367 - accuracy: 0.7899 - val_loss: 0.5241 - val_accuracy: 0.7908\n",
      "Epoch 99/100\n",
      "457/457 [==============================] - 0s 244us/step - loss: 0.4367 - accuracy: 0.7834 - val_loss: 0.5208 - val_accuracy: 0.7647\n",
      "Epoch 100/100\n",
      "457/457 [==============================] - 0s 229us/step - loss: 0.4372 - accuracy: 0.7877 - val_loss: 0.5220 - val_accuracy: 0.7647\n"
     ]
    }
   ],
   "source": [
    "# Fit the DNN with your train data\n",
    "\n",
    "history = model.fit(X_train, Y_train, validation_data=(X_val, Y_val),  nb_epoch=100, batch_size=5)"
   ]
  },
  {
   "cell_type": "code",
   "execution_count": 227,
   "metadata": {},
   "outputs": [
    {
     "name": "stdout",
     "output_type": "stream",
     "text": [
      "dict_keys(['val_loss', 'val_accuracy', 'loss', 'accuracy'])\n"
     ]
    }
   ],
   "source": [
    "print(history.history.keys())"
   ]
  },
  {
   "cell_type": "code",
   "execution_count": 228,
   "metadata": {},
   "outputs": [
    {
     "name": "stdout",
     "output_type": "stream",
     "text": [
      "457/457 [==============================] - 0s 22us/step\n",
      "Accuracy: 78.56%\n"
     ]
    }
   ],
   "source": [
    "#Training Set Accuracy\n",
    "scores_train_set = model.evaluate(X_train, Y_train)\n",
    "print(\"Accuracy: %.2f%%\" %(scores_train_set[1]*100))"
   ]
  },
  {
   "cell_type": "code",
   "execution_count": 229,
   "metadata": {},
   "outputs": [
    {
     "name": "stdout",
     "output_type": "stream",
     "text": [
      "153/153 [==============================] - 0s 26us/step\n",
      "Accuracy: 76.47%\n"
     ]
    }
   ],
   "source": [
    "#Validation Set Accuracy\n",
    "\n",
    "scores_val_set = model.evaluate(X_val, Y_val)\n",
    "print (\"Accuracy: %.2f%%\" %(scores_val_set[1]*100))"
   ]
  },
  {
   "cell_type": "code",
   "execution_count": 230,
   "metadata": {},
   "outputs": [
    {
     "data": {
      "text/html": [
       "<div>\n",
       "<style scoped>\n",
       "    .dataframe tbody tr th:only-of-type {\n",
       "        vertical-align: middle;\n",
       "    }\n",
       "\n",
       "    .dataframe tbody tr th {\n",
       "        vertical-align: top;\n",
       "    }\n",
       "\n",
       "    .dataframe thead th {\n",
       "        text-align: right;\n",
       "    }\n",
       "</style>\n",
       "<table border=\"1\" class=\"dataframe\">\n",
       "  <thead>\n",
       "    <tr style=\"text-align: right;\">\n",
       "      <th></th>\n",
       "      <th>0</th>\n",
       "      <th>1</th>\n",
       "      <th>2</th>\n",
       "      <th>3</th>\n",
       "      <th>4</th>\n",
       "      <th>5</th>\n",
       "      <th>6</th>\n",
       "      <th>7</th>\n",
       "      <th>8</th>\n",
       "    </tr>\n",
       "  </thead>\n",
       "  <tbody>\n",
       "    <tr>\n",
       "      <th>610</th>\n",
       "      <td>3</td>\n",
       "      <td>106</td>\n",
       "      <td>54</td>\n",
       "      <td>21</td>\n",
       "      <td>158</td>\n",
       "      <td>30.9</td>\n",
       "      <td>0.292</td>\n",
       "      <td>24</td>\n",
       "      <td>0</td>\n",
       "    </tr>\n",
       "    <tr>\n",
       "      <th>611</th>\n",
       "      <td>3</td>\n",
       "      <td>174</td>\n",
       "      <td>58</td>\n",
       "      <td>22</td>\n",
       "      <td>194</td>\n",
       "      <td>32.9</td>\n",
       "      <td>0.593</td>\n",
       "      <td>36</td>\n",
       "      <td>1</td>\n",
       "    </tr>\n",
       "    <tr>\n",
       "      <th>612</th>\n",
       "      <td>7</td>\n",
       "      <td>168</td>\n",
       "      <td>88</td>\n",
       "      <td>42</td>\n",
       "      <td>321</td>\n",
       "      <td>38.2</td>\n",
       "      <td>0.787</td>\n",
       "      <td>40</td>\n",
       "      <td>1</td>\n",
       "    </tr>\n",
       "    <tr>\n",
       "      <th>613</th>\n",
       "      <td>6</td>\n",
       "      <td>105</td>\n",
       "      <td>80</td>\n",
       "      <td>28</td>\n",
       "      <td>0</td>\n",
       "      <td>32.5</td>\n",
       "      <td>0.878</td>\n",
       "      <td>26</td>\n",
       "      <td>0</td>\n",
       "    </tr>\n",
       "    <tr>\n",
       "      <th>614</th>\n",
       "      <td>11</td>\n",
       "      <td>138</td>\n",
       "      <td>74</td>\n",
       "      <td>26</td>\n",
       "      <td>144</td>\n",
       "      <td>36.1</td>\n",
       "      <td>0.557</td>\n",
       "      <td>50</td>\n",
       "      <td>1</td>\n",
       "    </tr>\n",
       "  </tbody>\n",
       "</table>\n",
       "</div>"
      ],
      "text/plain": [
       "      0    1   2   3    4     5      6   7  8\n",
       "610   3  106  54  21  158  30.9  0.292  24  0\n",
       "611   3  174  58  22  194  32.9  0.593  36  1\n",
       "612   7  168  88  42  321  38.2  0.787  40  1\n",
       "613   6  105  80  28    0  32.5  0.878  26  0\n",
       "614  11  138  74  26  144  36.1  0.557  50  1"
      ]
     },
     "execution_count": 230,
     "metadata": {},
     "output_type": "execute_result"
    }
   ],
   "source": [
    "#Pre-Processing the Test Set\n",
    "\n",
    "df_test.head()"
   ]
  },
  {
   "cell_type": "code",
   "execution_count": 231,
   "metadata": {},
   "outputs": [
    {
     "name": "stdout",
     "output_type": "stream",
     "text": [
      "(158, 8) (158, 1)\n"
     ]
    }
   ],
   "source": [
    "X = df_test.iloc[:, :8]\n",
    "Y = df_test.iloc[:, 8:9]\n",
    "print(X.shape, Y.shape)"
   ]
  },
  {
   "cell_type": "code",
   "execution_count": 232,
   "metadata": {},
   "outputs": [
    {
     "name": "stdout",
     "output_type": "stream",
     "text": [
      "          0         1         2         3         4         5         6  \\\n",
      "0  0.230769  0.349650  0.473684  0.428571  0.292593  0.539267  0.111813   \n",
      "1  0.230769  0.825175  0.508772  0.448980  0.359259  0.574171  0.301958   \n",
      "2  0.538462  0.783217  0.771930  0.857143  0.594444  0.666667  0.424510   \n",
      "3  0.461538  0.342657  0.701754  0.571429  0.000000  0.567190  0.481996   \n",
      "4  0.846154  0.573427  0.649123  0.530612  0.266667  0.630017  0.279217   \n",
      "\n",
      "          7  \n",
      "0  0.061224  \n",
      "1  0.306122  \n",
      "2  0.387755  \n",
      "3  0.102041  \n",
      "4  0.591837  \n"
     ]
    }
   ],
   "source": [
    "data = X\n",
    "scaler = MinMaxScaler(feature_range=(0,1))\n",
    "scaler = MinMaxScaler()\n",
    "scaler.fit(data)\n",
    "df_test1 = pd.DataFrame(scaler.transform(data))\n",
    "\n",
    "print(df_test1.head())"
   ]
  },
  {
   "cell_type": "code",
   "execution_count": 233,
   "metadata": {},
   "outputs": [
    {
     "name": "stdout",
     "output_type": "stream",
     "text": [
      "          0         1         2         3         4         5         6  \\\n",
      "0  0.230769  0.349650  0.473684  0.428571  0.292593  0.539267  0.111813   \n",
      "1  0.230769  0.825175  0.508772  0.448980  0.359259  0.574171  0.301958   \n",
      "2  0.538462  0.783217  0.771930  0.857143  0.594444  0.666667  0.424510   \n",
      "3  0.461538  0.342657  0.701754  0.571429  0.000000  0.567190  0.481996   \n",
      "4  0.846154  0.573427  0.649123  0.530612  0.266667  0.630017  0.279217   \n",
      "\n",
      "          7  \n",
      "0  0.061224  \n",
      "1  0.306122  \n",
      "2  0.387755  \n",
      "3  0.102041  \n",
      "4  0.591837  \n",
      "     8\n",
      "610  0\n",
      "611  1\n",
      "612  1\n",
      "613  0\n",
      "614  1\n"
     ]
    }
   ],
   "source": [
    "X_test = df_test1\n",
    "Y_test = Y\n",
    "print(X_test.head())\n",
    "print(Y_test.head())"
   ]
  },
  {
   "cell_type": "code",
   "execution_count": 234,
   "metadata": {},
   "outputs": [
    {
     "name": "stdout",
     "output_type": "stream",
     "text": [
      "158/158 [==============================] - 0s 25us/step\n",
      "Accuracy: 77.22%\n"
     ]
    }
   ],
   "source": [
    "# Evaluate the model\n",
    "scores = model.evaluate(X_test, Y_test)\n",
    "print (\"Accuracy: %.2f%%\" %(scores[1]*100))"
   ]
  },
  {
   "cell_type": "code",
   "execution_count": 235,
   "metadata": {},
   "outputs": [
    {
     "data": {
      "image/png": "[encoded data removed]",
      "text/plain": [
       "<Figure size 432x288 with 1 Axes>"
      ]
     },
     "metadata": {
      "needs_background": "light"
     },
     "output_type": "display_data"
    }
   ],
   "source": [
    "#summarize history for accuracy\n",
    "\n",
    "plt.plot(history.history['accuracy'])\n",
    "plt.plot(history.history['val_accuracy'])\n",
    "plt.title('Model Accuracy')\n",
    "plt.ylabel('accuracy')\n",
    "plt.xlabel('epoch')\n",
    "plt.legend(['train', 'val'], loc='upper left')\n",
    "plt.show()\n"
   ]
  },
  {
   "cell_type": "code",
   "execution_count": 236,
   "metadata": {},
   "outputs": [
    {
     "data": {
      "image/png": "[encoded data removed]",
      "text/plain": [
       "<Figure size 432x288 with 1 Axes>"
      ]
     },
     "metadata": {
      "needs_background": "light"
     },
     "output_type": "display_data"
    }
   ],
   "source": [
    "# summarize history for loss\n",
    "plt.plot(history.history['loss'])\n",
    "plt.plot(history.history['val_loss'])\n",
    "plt.title('Model Loss')\n",
    "plt.ylabel('loss')\n",
    "plt.xlabel('epoch')\n",
    "plt.legend(['train', 'val'], loc='upper left')\n",
    "plt.show()"
   ]
  },
  {
   "cell_type": "code",
   "execution_count": 237,
   "metadata": {},
   "outputs": [],
   "source": [
    "#Generating ROC curves and AUC Values\n",
    "\n",
    "\n",
    "from sklearn.metrics import roc_curve\n",
    "from sklearn.metrics import auc\n",
    "\n"
   ]
  },
  {
   "cell_type": "code",
   "execution_count": 243,
   "metadata": {},
   "outputs": [],
   "source": [
    "y_pred = model.predict(X_test)\n",
    "fpr_sq, tpr_sq, thresholds_sq = roc_curve(Y_test, y_pred)\n",
    "auc_sq = auc(fpr_sq, tpr_sq)"
   ]
  },
  {
   "cell_type": "code",
   "execution_count": 244,
   "metadata": {},
   "outputs": [
    {
     "data": {
      "image/png": "[encoded data removed]",
      "text/plain": [
       "<Figure size 432x288 with 1 Axes>"
      ]
     },
     "metadata": {
      "needs_background": "light"
     },
     "output_type": "display_data"
    }
   ],
   "source": [
    "plt.figure(1)\n",
    "plt.plot([0, 1], [0, 1], 'k--')\n",
    "plt.plot(fpr_sq, tpr_sq, label='Model (area = {:.3f})'.format(auc_sq))\n",
    "plt.xlabel('False positive rate')\n",
    "plt.ylabel('True positive rate')\n",
    "plt.title('ROC curve')\n",
    "plt.legend(loc='best')\n",
    "plt.show()\n"
   ]
  },
  {
   "cell_type": "code",
   "execution_count": 245,
   "metadata": {},
   "outputs": [
    {
     "data": {
      "text/plain": [
       "0.8415841584158416"
      ]
     },
     "execution_count": 245,
     "metadata": {},
     "output_type": "execute_result"
    }
   ],
   "source": [
    "#Area under the ROC curve\n",
    "roc_auc_score(Y_test, y_pred)\n"
   ]
  },
  {
   "cell_type": "code",
   "execution_count": null,
   "metadata": {},
   "outputs": [],
   "source": []
  }
 ],
 "metadata": {
  "kernelspec": {
   "display_name": "Python 3",
   "language": "python",
   "name": "python3"
  },
  "language_info": {
   "codemirror_mode": {
    "name": "ipython",
    "version": 3
   },
   "file_extension": ".py",
   "mimetype": "text/x-python",
   "name": "python",
   "nbconvert_exporter": "python",
   "pygments_lexer": "ipython3",
   "version": "3.7.6"
  }
 },
 "nbformat": 4,
 "nbformat_minor": 2
}
